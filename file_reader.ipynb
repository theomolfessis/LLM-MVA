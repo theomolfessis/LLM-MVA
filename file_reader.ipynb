{
 "cells": [
  {
   "cell_type": "code",
   "execution_count": null,
   "metadata": {},
   "outputs": [],
   "source": [
    "import glob\n",
    "import pandas as pd\n",
    "import json\n",
    "\n",
    "# Find all JSON files in the specified directory\n",
    "json_files = glob.glob('/Users/theo/Desktop/MVA/Second_Semestre/LLM/Projet-final/ECHR_Dataset/EN_dev/*.json')\n",
    "rows = []\n",
    "\n",
    "for file in json_files:\n",
    "    with open(file, 'r') as f:\n",
    "        data = json.load(f)\n",
    "        # If needed, process certain fields (e.g., join lists) here:\n",
    "        # data['TEXT'] = ' '.join(data['TEXT'])\n",
    "        rows.append(data)\n",
    "\n",
    "# Create the global DataFrame\n",
    "global_df = pd.DataFrame(rows)\n",
    "global_df\n"
   ]
  }
 ],
 "metadata": {
  "kernelspec": {
   "display_name": "Python 3",
   "language": "python",
   "name": "python3"
  },
  "language_info": {
   "name": "python",
   "version": "3.11.0"
  }
 },
 "nbformat": 4,
 "nbformat_minor": 2
}
